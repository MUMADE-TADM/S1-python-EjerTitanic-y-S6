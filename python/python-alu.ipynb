{
 "cells": [
  {
   "cell_type": "markdown",
   "metadata": {},
   "source": [
    "# Lenguaje __PYTHON 3.x__\n",
    "\n",
    "Referencia y documentación oficial [Pulsar](https://docs.python.org/es/3/index.html)"
   ]
  },
  {
   "cell_type": "markdown",
   "metadata": {},
   "source": [
    "## Variable __SIMPLES__"
   ]
  },
  {
   "cell_type": "markdown",
   "metadata": {},
   "source": [
    "### Cadenas __STRING__"
   ]
  },
  {
   "cell_type": "code",
   "execution_count": 1,
   "metadata": {},
   "outputs": [
    {
     "name": "stdout",
     "output_type": "stream",
     "text": [
      "Hola mundo\n"
     ]
    }
   ],
   "source": [
    "cadena='Hola mundo'\n",
    "print(cadena)"
   ]
  },
  {
   "cell_type": "code",
   "execution_count": 13,
   "metadata": {},
   "outputs": [
    {
     "name": "stdout",
     "output_type": "stream",
     "text": [
      "Hola  violeta\n",
      "Hola violeta\n"
     ]
    }
   ],
   "source": [
    "nombre=input('Ingrese su nombre: ')\n",
    "print('Hola ',nombre)\n",
    "print(f'Hola {nombre}')"
   ]
  },
  {
   "cell_type": "code",
   "execution_count": 14,
   "metadata": {},
   "outputs": [
    {
     "name": "stdout",
     "output_type": "stream",
     "text": [
      "Violeta\n",
      "VIOLETA\n",
      "violeta\n",
      "Violeta\n",
      "vIOLETA\n",
      "> esto es una cadena  <\n",
      ">esto es una cadena<\n",
      "18\n"
     ]
    }
   ],
   "source": [
    "# Prime letra en mayuscula\n",
    "nombre=nombre.capitalize()  \n",
    "print(nombre)\n",
    "# Todo a mayúsculas\n",
    "nombre=nombre.upper()\n",
    "print(nombre)\n",
    "# Todo a minúsculas\n",
    "nombre=nombre.lower()\n",
    "print(nombre)\n",
    "# Semejante a capitalize()\n",
    "nombre=nombre.title()\n",
    "print(nombre)\n",
    "# Cambia mayusculas a minusculas y viceversa\n",
    "nombre=nombre.swapcase()\n",
    "print(nombre)\n",
    "# Elimina espacios en blanco al inicio y final de la cadena\n",
    "cadena=\" esto es una cadena  \"\n",
    "print(f'>{cadena}<')\n",
    "cadena=cadena.strip()\n",
    "print(f'>{cadena}<')\n",
    "#longitud de la cadena\n",
    "print(len(cadena))\n",
    "\n"
   ]
  },
  {
   "cell_type": "markdown",
   "metadata": {},
   "source": [
    "En la siguiente celda escriba un código de python que lea su nombre y sus apellidos y los muestre sin blancos al principio ni al final con un mensaje con el siguiente formato : \n",
    "\n",
    "**Hola** \\<Nombre\\>**, me gusta como suena** \\<Apellido\\> **como apellido**.\n",
    "\n",
    "- \\<Nombre\\> en formato con la primera letra en Mayúscula y el resto en minúsculas.\n",
    "- \\<Apellido\\> todo en mayúscula sin blancos al principio y al final.\n",
    "\n",
    "Utiliza f cadenas."
   ]
  },
  {
   "cell_type": "code",
   "execution_count": 23,
   "metadata": {},
   "outputs": [
    {
     "name": "stdout",
     "output_type": "stream",
     "text": [
      "Hola Violeta, me gusta como suena DEL BURGO como apellido.\n"
     ]
    }
   ],
   "source": [
    "nombre=input('Ingrese su nombre: ')\n",
    "apellido=input('Ingrese su apellido: ')\n",
    "nombre=nombre.capitalize()\n",
    "apellido=apellido.upper().strip()\n",
    "print(f'Hola {nombre}, me gusta como suena {apellido} como apellido.')\n"
   ]
  },
  {
   "cell_type": "code",
   "execution_count": null,
   "metadata": {},
   "outputs": [],
   "source": [
    "#concatenar dos cadenas\n",
    "cadena1='Hola'\n",
    "cadena2=' mundo'\n",
    "cadena3=\n",
    "print(cadena3)"
   ]
  },
  {
   "cell_type": "markdown",
   "metadata": {},
   "source": [
    "Para saber más funcionalidades de las cadenas. [**Pulsa**](https://docs.python.org/es/3/library/string.html)"
   ]
  },
  {
   "cell_type": "markdown",
   "metadata": {},
   "source": [
    "### Números"
   ]
  },
  {
   "cell_type": "markdown",
   "metadata": {},
   "source": [
    "#### Enteros __INT__"
   ]
  },
  {
   "cell_type": "code",
   "execution_count": 21,
   "metadata": {},
   "outputs": [
    {
     "name": "stdout",
     "output_type": "stream",
     "text": [
      "45\n",
      "45\n"
     ]
    }
   ],
   "source": [
    "numero=45\n",
    "cadena4=str(numero)\n",
    "print(cadena4)\n",
    "numero=int(cadena4)\n",
    "print(numero)"
   ]
  },
  {
   "cell_type": "code",
   "execution_count": 26,
   "metadata": {},
   "outputs": [
    {
     "name": "stdout",
     "output_type": "stream",
     "text": [
      "Su edad es 22\n",
      "<class 'int'>\n",
      "Usted tiene 8030 dias de vida\n",
      "Usted tiene 693792000 segundos de vida\n",
      "Usted tiene 693792000000000000 nanosegundos de vida\n"
     ]
    }
   ],
   "source": [
    "edad=int(input('Ingrese su edad: '))\n",
    "print(f'Su edad es {edad}')\n",
    "print(type(edad))\n",
    "\n",
    "dias= 365*edad\n",
    "print(f'Usted tiene {dias} dias de vida')\n",
    "\n",
    "segundos= 24*60*60*dias\n",
    "print(f'Usted tiene {segundos} segundos de vida')\n",
    "\n",
    "nanosegundos=segundos*1000000000\n",
    "print(f'Usted tiene {nanosegundos} nanosegundos de vida')\n"
   ]
  },
  {
   "cell_type": "code",
   "execution_count": 27,
   "metadata": {},
   "outputs": [
    {
     "name": "stdout",
     "output_type": "stream",
     "text": [
      "Potencia 25\n",
      "Raiz cuadrada 2\n",
      "Resto 1\n"
     ]
    }
   ],
   "source": [
    "print(f'Potencia {5**2}')\n",
    "print(f'Raiz cuadrada {5 // 2}')\n",
    "print(f'Resto {5 % 2}')"
   ]
  },
  {
   "cell_type": "markdown",
   "metadata": {},
   "source": [
    "Calcula en la siguiente celda el número de semana, completas, que han trascurrido desde el nacimiento de la **Tierra** hace 4540 millones de años"
   ]
  },
  {
   "cell_type": "code",
   "execution_count": 29,
   "metadata": {},
   "outputs": [
    {
     "name": "stdout",
     "output_type": "stream",
     "text": [
      "La Tierra tiene 217920000000 semanas de vida\n"
     ]
    }
   ],
   "source": [
    "maños=int(input('Ingrese millones de años: '))\n",
    "semanas= 1000000*12*4*maños\n",
    "print(f'La Tierra tiene {semanas} semanas de vida')"
   ]
  },
  {
   "cell_type": "markdown",
   "metadata": {},
   "source": [
    "#### Reales __FLOAT__"
   ]
  },
  {
   "cell_type": "code",
   "execution_count": 30,
   "metadata": {},
   "outputs": [
    {
     "name": "stdout",
     "output_type": "stream",
     "text": [
      "3.14159265\n"
     ]
    }
   ],
   "source": [
    "real=3.14159265\n",
    "print(f'{real}')"
   ]
  },
  {
   "cell_type": "code",
   "execution_count": 31,
   "metadata": {},
   "outputs": [
    {
     "name": "stdout",
     "output_type": "stream",
     "text": [
      "3.3333333333333335\n",
      "3.33\n"
     ]
    }
   ],
   "source": [
    "real=10/3\n",
    "print(f'{real}')\n",
    "print(f'{real:.2f}')\n",
    "#El último comando es para poner x decimales. "
   ]
  },
  {
   "cell_type": "code",
   "execution_count": 32,
   "metadata": {},
   "outputs": [
    {
     "name": "stdout",
     "output_type": "stream",
     "text": [
      "El valor en dólares es:  77.88\n"
     ]
    }
   ],
   "source": [
    "#Cotización de dólares\n",
    "dolares=float(input('Ingrese el valor en euros: '))\n",
    "print(f'El valor en dólares es: {dolares*1.18: .2f}')"
   ]
  },
  {
   "cell_type": "code",
   "execution_count": 33,
   "metadata": {},
   "outputs": [
    {
     "name": "stdout",
     "output_type": "stream",
     "text": [
      "La suma es: 75.0\n",
      "La resta es: -59.0\n",
      "La multiplicación es: 536.0\n",
      "La división es: 0.11940298507462686\n",
      "La división entera es: 0.0\n",
      "La resto es: 8.0\n",
      "La potencia es: 3.2138760885179806e+60\n"
     ]
    }
   ],
   "source": [
    "#float operadores\n",
    "numero1=float(input('Ingrese el primer número: '))\n",
    "numero2=float(input('Ingrese el segundo número: '))\n",
    "print(f'La suma es: {numero1+numero2}')\n",
    "print(f'La resta es: {numero1-numero2}')\n",
    "print(f'La multiplicación es: {numero1*numero2}')\n",
    "print(f'La división es: {numero1/numero2}')\n",
    "print(f'La división entera es: {numero1//numero2}')\n",
    "print(f'La resto es: {numero1%numero2}')\n",
    "print(f'La potencia es: {numero1**numero2}')\n"
   ]
  },
  {
   "cell_type": "markdown",
   "metadata": {},
   "source": [
    "El la siguiente celda calcula el área de un círculo, en m^2, pidiendo el radio del mismo en mm.\n",
    "\n",
    "Muestra el resultado con 2 decimales."
   ]
  },
  {
   "cell_type": "code",
   "execution_count": 45,
   "metadata": {},
   "outputs": [
    {
     "name": "stdout",
     "output_type": "stream",
     "text": [
      "El área es:  2.83 m^2\n"
     ]
    },
    {
     "name": "stderr",
     "output_type": "stream",
     "text": [
      "Bad pipe message: %s [b'\\x06\\xe8]E\\xd9\\x06\\xedt\\x81\\x0eQ/\"\\x8cd\\xde\\xf4:\\x00\\x00|\\xc0,\\xc00\\x00\\xa3\\x00\\x9f\\xcc\\xa9\\xcc\\xa8\\xcc\\xaa\\xc0\\xaf\\xc0\\xad\\xc0\\xa3\\xc0\\x9f\\xc0]\\xc0a\\xc0W\\xc0S\\xc0+\\xc0/\\x00\\xa2\\x00\\x9e\\xc0\\xae\\xc0\\xac\\xc0\\xa2\\xc0\\x9e\\xc0\\\\\\xc0`\\xc0V\\xc0R\\xc0$\\xc0(\\x00k\\x00j\\xc0#\\xc0\\'\\x00g\\x00@\\xc0\\n\\xc0\\x14\\x009\\x008\\xc0\\t\\xc0\\x13\\x003\\x002\\x00\\x9d\\xc0\\xa1\\xc0\\x9d\\xc0Q\\x00\\x9c\\xc0\\xa0\\xc0\\x9c\\xc0P\\x00=\\x00<\\x005\\x00/\\x00\\x9a\\x00\\x99\\xc0\\x07\\xc0\\x11\\x00\\x96\\x00\\x05\\x00\\xff\\x01\\x00\\x00j\\x00\\x00\\x00\\x0e\\x00\\x0c\\x00\\x00\\t127.0.0.1\\x00\\x0b\\x00\\x04\\x03\\x00\\x01\\x02\\x00\\n\\x00\\x0c\\x00']\n",
      "Bad pipe message: %s [b'\\x1d\\x00\\x17\\x00\\x1e\\x00\\x19\\x00\\x18']\n",
      "Bad pipe message: %s [b'\\x1bW\\x02Y\\xe2\\xaa\\xf0K\\xc4\\x02\\x00~\\x83\\x99/\\x88\\xa3r\\x00\\x00\\xa6', b\"\\xc00\\x00\\xa3\\x00\\x9f\\xcc\\xa9\\xcc\\xa8\\xcc\\xaa\\xc0\\xaf\\xc0\\xad\\xc0\\xa3\\xc0\\x9f\\xc0]\\xc0a\\xc0W\\xc0S\\xc0+\\xc0/\\x00\\xa2\\x00\\x9e\\xc0\\xae\\xc0\\xac\\xc0\\xa2\\xc0\\x9e\\xc0\\\\\\xc0`\\xc0V\\xc0R\\xc0$\\xc0(\\x00k\\x00j\\xc0s\\xc0w\\x00\\xc4\\x00\\xc3\\xc0#\\xc0'\\x00g\\x00@\\xc0r\\xc0v\\x00\\xbe\\x00\\xbd\\xc0\\n\\xc0\\x14\\x009\\x008\\x00\\x88\\x00\\x87\\xc0\\t\\xc0\\x13\\x003\\x002\\x00\\x9a\\x00\\x99\\x00E\\x00D\\xc0\\x07\\xc0\\x11\\xc0\\x08\\xc0\\x12\\x00\\x16\\x00\\x13\\x00\\x9d\\xc0\\xa1\\xc0\\x9d\\xc0Q\\x00\\x9c\\xc0\\xa0\\xc0\\x9c\\xc0P\\x00=\\x00\\xc0\\x00<\\x00\\xba\\x005\\x00\\x84\\x00/\\x00\\x96\\x00A\\x00\\x05\\x00\\n\\x00\\xff\\x01\\x00\\x00j\\x00\\x00\\x00\\x0e\\x00\\x0c\\x00\\x00\\t127.0.0.1\\x00\\x0b\\x00\\x04\\x03\"]\n",
      "Bad pipe message: %s [b'\\xfe~\\x9b\\xc6\\xd0\\xe3\\xec\\xfc\\x15\\xa5\\x85:1\\x05\\xef\\x9e\\x02n\\x00\\x00>\\xc0\\x14\\xc0\\n\\x009\\x008\\x007\\x006\\xc0\\x0f\\xc0\\x05\\x005\\xc0\\x13\\xc0\\t\\x003\\x002\\x001\\x000\\xc0\\x0e\\xc0\\x04\\x00/\\x00\\x9a\\x00\\x99\\x00\\x98\\x00\\x97\\x00\\x96\\x00\\x07\\xc0\\x11\\xc0']\n",
      "Bad pipe message: %s [b'\\x0c\\xc0\\x02\\x00\\x05\\x00']\n",
      "Bad pipe message: %s [b'\\xff\\x02\\x01']\n",
      "Bad pipe message: %s [b'\\xb3f\\x1f\\xc0\\xec\\x144\\x11IU\\x9fhvc\\xfeJ\\xd0\\xfc\\x00\\x00\\xa2\\xc0\\x14\\xc0\\n\\x009\\x008\\x007']\n",
      "Bad pipe message: %s [b'5{\\xdbw\\x8c\\xda\\xed\\xda\\x19\\x8b\\xa8\\xe3}\\xba\\x98\\x06\\x17\\xf0\\x00\\x00>\\xc0\\x14\\xc0\\n\\x009\\x008\\x007\\x006\\xc0\\x0f\\xc0']\n",
      "Bad pipe message: %s [b'5\\xc0\\x13\\xc0']\n",
      "Bad pipe message: %s [b'3\\x002\\x001\\x000\\xc0']\n",
      "Bad pipe message: %s [b'\\x04\\x00/\\x00\\x9a\\x00\\x99\\x00\\x98\\x00\\x97\\x00\\x96']\n",
      "Bad pipe message: %s [b'\\xd2\\xfaj\\xcb4\\xc4\\x97:\\xa0j{H\\xba)`\\xd3\\xa5\\xc6\\x00\\x00\\xa2\\xc0\\x14\\xc0\\n\\x009\\x008\\x007\\x006\\x00\\x88\\x00\\x87\\x00\\x86\\x00\\x85\\xc0\\x19\\x00:\\x00\\x89\\xc0\\x0f\\xc0\\x05\\x005\\x00\\x84\\xc0\\x13\\xc0\\t\\x003\\x002\\x001\\x000\\x00\\x9a\\x00\\x99\\x00\\x98\\x00\\x97\\x00E\\x00D\\x00C\\x00B\\xc0\\x18\\x004\\x00\\x9b\\x00F\\xc0\\x0e\\xc0\\x04\\x00/\\x00\\x96\\x00A\\x00\\x07\\xc0\\x11\\xc0\\x07\\xc0\\x16\\x00\\x18\\xc0\\x0c\\xc0\\x02\\x00\\x05\\x00\\x04\\xc0\\x12\\xc0\\x08\\x00\\x16\\x00\\x13\\x00\\x10\\x00\\r\\xc0\\x17\\x00\\x1b\\xc0\\r\\xc0\\x03\\x00\\n\\x00\\x15\\x00\\x12\\x00\\x0f\\x00\\x0c\\x00\\x1a\\x00\\t\\x00\\x14\\x00\\x11\\x00\\x19\\x00\\x08\\x00\\x06\\x00\\x17\\x00\\x03\\xc0\\x10\\xc0']\n",
      "Bad pipe message: %s [b'\\x15\\xc0\\x0b\\xc0\\x01']\n",
      "Bad pipe message: %s [b\"\\xe6\\xe7\\xfd\\x80\\xfa\\xa1b\\x95!:C&N\\x17\\xfa\\x0c\\x1d+\\x00\\x00\\x86\\xc00\\xc0,\\xc0(\\xc0$\\xc0\\x14\\xc0\\n\\x00\\xa5\\x00\\xa3\\x00\\xa1\\x00\\x9f\\x00k\\x00j\\x00i\\x00h\\x009\\x008\\x007\\x006\\xc02\\xc0.\\xc0*\\xc0&\\xc0\\x0f\\xc0\\x05\\x00\\x9d\\x00=\\x005\\xc0/\\xc0+\\xc0'\\xc0#\\xc0\\x13\\xc0\\t\\x00\\xa4\\x00\\xa2\\x00\\xa0\\x00\\x9e\\x00g\\x00@\\x00?\\x00>\\x003\\x002\\x001\\x000\\xc01\\xc0-\\xc0)\\xc0%\\xc0\\x0e\\xc0\\x04\\x00\\x9c\\x00<\\x00/\\x00\\x9a\\x00\\x99\\x00\\x98\\x00\\x97\\x00\\x96\\x00\\x07\\xc0\\x11\\xc0\\x07\\xc0\\x0c\\xc0\\x02\\x00\\x05\\x00\\x04\\x00\\xff\\x02\\x01\\x00\\x00g\\x00\\x00\\x00\"]\n",
      "Bad pipe message: %s [b'\\x0c\\x00\\x00\\t127.0.0.1']\n",
      "Bad pipe message: %s [b\"\\xcfn\\xb3\\x03\\x85j\\xe5\\xca\\x087\\xb1\\xa9\\x10\\xc1\\xbd\\xa0\\xa4\\x92\\x00\\x00\\xf4\\xc00\\xc0,\\xc0(\\xc0$\\xc0\\x14\\xc0\\n\\x00\\xa5\\x00\\xa3\\x00\\xa1\\x00\\x9f\\x00k\\x00j\\x00i\\x00h\\x009\\x008\\x007\\x006\\x00\\x88\\x00\\x87\\x00\\x86\\x00\\x85\\xc0\\x19\\x00\\xa7\\x00m\\x00:\\x00\\x89\\xc02\\xc0.\\xc0*\\xc0&\\xc0\\x0f\\xc0\\x05\\x00\\x9d\\x00=\\x005\\x00\\x84\\xc0/\\xc0+\\xc0'\\xc0#\\xc0\\x13\\xc0\\t\\x00\\xa4\\x00\"]\n",
      "Bad pipe message: %s [b'\\xa0\\x00\\x9e\\x00g\\x00@\\x00?\\x00>\\x003\\x002\\x001\\x000\\x00\\x9a\\x00\\x99\\x00\\x98\\x00\\x97\\x00E\\x00D\\x00C\\x00B\\xc0\\x18\\x00\\xa6\\x00l\\x004\\x00\\x9b\\x00F\\xc01\\xc0-\\xc0)\\xc0%\\xc0\\x0e\\xc0\\x04\\x00\\x9c\\x00<\\x00/\\x00\\x96\\x00A\\x00\\x07\\xc0\\x11\\xc0\\x07\\xc0\\x16\\x00\\x18\\xc0\\x0c\\xc0\\x02\\x00\\x05\\x00\\x04\\xc0\\x12\\xc0\\x08\\x00\\x16\\x00\\x13\\x00\\x10\\x00\\r\\xc0\\x17\\x00\\x1b\\xc0\\r\\xc0\\x03\\x00\\n\\x00\\x15\\x00\\x12\\x00\\x0f\\x00\\x0c\\x00\\x1a\\x00\\t\\x00\\x14\\x00\\x11\\x00\\x19\\x00\\x08\\x00\\x06\\x00\\x17\\x00\\x03\\xc0\\x10\\xc0\\x06\\xc0\\x15\\xc0\\x0b\\xc0\\x01\\x00;\\x00\\x02\\x00\\x01\\x00\\xff\\x02\\x01\\x00\\x00g\\x00\\x00\\x00']\n",
      "Bad pipe message: %s [b'\\x0c\\x00\\x00\\t127.0.0.1']\n"
     ]
    }
   ],
   "source": [
    "radio=float(input('Ingrese el valor del radio en mm : '))\n",
    "print(f'El área es: {(3.1416*(radio*0.001**2)): .2f} m^2')"
   ]
  },
  {
   "cell_type": "markdown",
   "metadata": {},
   "source": [
    "### Lógicas __BOOL__"
   ]
  },
  {
   "cell_type": "code",
   "execution_count": 34,
   "metadata": {},
   "outputs": [
    {
     "name": "stdout",
     "output_type": "stream",
     "text": [
      "Y:True\n",
      "Y:False\n",
      "O:True\n",
      "O:True\n",
      "NO:False\n",
      "NO:True\n"
     ]
    }
   ],
   "source": [
    "Verdadero= True\n",
    "Falso= False\n",
    "\n",
    "print(f'Y:{Verdadero and Verdadero}')\n",
    "print(f'Y:{Verdadero and Falso}')\n",
    "print(f'O:{Verdadero or Falso}')\n",
    "print(f'O:{Verdadero or Verdadero}')\n",
    "print(f'NO:{not Verdadero}')\n",
    "print(f'NO:{not Falso}')\n"
   ]
  },
  {
   "cell_type": "code",
   "execution_count": 37,
   "metadata": {},
   "outputs": [
    {
     "name": "stdout",
     "output_type": "stream",
     "text": [
      "34 es mayor que 56: False\n",
      "34 es menor que 56: True\n",
      "34 es mayor o igual que 56: False\n",
      "34 es menor o igual que 56: True\n",
      "34 es igual que 56: False\n",
      "34 es diferente que 56: True\n"
     ]
    }
   ],
   "source": [
    "#Operadores de comparación con números\n",
    "numero1=int(input('Ingrese el primer número: '))\n",
    "numero2=int(input('Ingrese el segundo número: '))\n",
    "print(f'{numero1} es mayor que {numero2}: {numero1>numero2}')\n",
    "print(f'{numero1} es menor que {numero2}: {numero1<numero2}')\n",
    "print(f'{numero1} es mayor o igual que {numero2}: {numero1>=numero2}')\n",
    "print(f'{numero1} es menor o igual que {numero2}: {numero1<=numero2}')\n",
    "print(f'{numero1} es igual que {numero2}: {numero1==numero2}')  \n",
    "print(f'{numero1} es diferente que {numero2}: {numero1!=numero2}')"
   ]
  },
  {
   "cell_type": "code",
   "execution_count": 40,
   "metadata": {},
   "outputs": [
    {
     "name": "stdout",
     "output_type": "stream",
     "text": [
      "Luis es mayor que Jime: True\n",
      "Luis es menor que Jime: False\n",
      "Luis es mayor o igual que Jime: True\n",
      "Luis es menor o igual que Jime: False\n",
      "Luis es igual que Jime: False\n",
      "Luis es diferente que Jime: True\n"
     ]
    }
   ],
   "source": [
    "#Operadores de comparación con cadenas\n",
    "cadena1=input('Ingrese la primera cadena: ')\n",
    "cadena2=input('Ingrese la segunda cadena: ')\n",
    "print(f'{cadena1} es mayor que {cadena2}: {cadena1>cadena2}')\n",
    "print(f'{cadena1} es menor que {cadena2}: {cadena1<cadena2}')\n",
    "print(f'{cadena1} es mayor o igual que {cadena2}: {cadena1>=cadena2}')\n",
    "print(f'{cadena1} es menor o igual que {cadena2}: {cadena1<=cadena2}')\n",
    "print(f'{cadena1} es igual que {cadena2}: {cadena1==cadena2}')\n",
    "print(f'{cadena1} es diferente que {cadena2}: {cadena1!=cadena2}')"
   ]
  },
  {
   "cell_type": "markdown",
   "metadata": {},
   "source": [
    "## Variables __COMPUESTAS__"
   ]
  },
  {
   "cell_type": "markdown",
   "metadata": {},
   "source": [
    "### Listas __LIST__"
   ]
  },
  {
   "cell_type": "code",
   "execution_count": 46,
   "metadata": {},
   "outputs": [
    {
     "name": "stdout",
     "output_type": "stream",
     "text": [
      "['Hola', 'mundo', 'como', 'estas']\n",
      "Hola\n",
      "mundo\n",
      "como\n",
      "estas\n",
      "estas\n",
      "como\n",
      "mundo\n",
      "Hola\n",
      "[]\n"
     ]
    }
   ],
   "source": [
    "lista=['Hola','mundo','como','estas']\n",
    "print(lista)\n",
    "print(lista[0])\n",
    "print(lista[1])\n",
    "print(lista[2])\n",
    "print(lista[3])\n",
    "print(lista[-1])\n",
    "print(lista[-2])\n",
    "print(lista[-3])\n",
    "print(lista[-4])\n",
    "#Ejemplo: lista con los 3 primeros números impares: lista= [1,3,5], print(lista[0,1,2])\n",
    "#Si quiero hacer una lista de listas: lista=[[1,2][3,4]]; print(lista[1][0])\n",
    "#En python no existe las matrices sino las listas, con la del ejemplo anterior tendría una matriz cuadrada de 2x2\n",
    "#Para invertir la lista: [ ::-1]\n",
    "#Establecer una lista vacía\n",
    "lista=[]\n",
    "print(lista)\n",
    "\n"
   ]
  },
  {
   "cell_type": "code",
   "execution_count": null,
   "metadata": {},
   "outputs": [],
   "source": [
    "#Cambiar un valor de una lista\n",
    "lista=['Hola','mundo','como','estas']\n",
    "print(lista)\n",
    "lista[0]=\n",
    "print(lista)"
   ]
  },
  {
   "cell_type": "markdown",
   "metadata": {},
   "source": [
    "Slice de una lista identifica una sublista\n",
    "\n",
    "lista[\\<indx inferior\\>:\\<indx superios -1\\>]"
   ]
  },
  {
   "cell_type": "code",
   "execution_count": 47,
   "metadata": {},
   "outputs": [
    {
     "name": "stdout",
     "output_type": "stream",
     "text": [
      "['Hola', 'mundo', 'como', 'estas']\n",
      "elementos 0 y 1 :['Hola', 'mundo']\n",
      "elementos 2 y 3 :['como', 'estas']\n",
      "Invertida ['estas', 'como', 'mundo', 'Hola']\n"
     ]
    }
   ],
   "source": [
    "#Rodajas de una lista\n",
    "lista=['Hola','mundo','como','estas']\n",
    "print(lista)\n",
    "print(f'elementos 0 y 1 :{ lista[0:2]}')\n",
    "print(f'elementos 2 y 3 :{lista[2:4]}')\n",
    "print(f'Invertida {lista[::-1]}')"
   ]
  },
  {
   "cell_type": "code",
   "execution_count": null,
   "metadata": {},
   "outputs": [],
   "source": [
    "#Agregar elementos a una lista\n",
    "lista=['Hola','mundo','como','estas']\n",
    "print(lista)\n",
    "lista.\n",
    "print(lista)\n",
    "lista.\n",
    "print(lista)\n"
   ]
  },
  {
   "cell_type": "code",
   "execution_count": null,
   "metadata": {},
   "outputs": [],
   "source": [
    "#Eliminar elementos de una lista\n",
    "lista=['Hola','mundo','como','estas']\n",
    "print(lista)\n",
    "lista.\n",
    "print(lista)\n",
    "lista.\n",
    "print(lista)\n",
    "lista.\n",
    "print(lista)"
   ]
  },
  {
   "cell_type": "code",
   "execution_count": 52,
   "metadata": {},
   "outputs": [
    {
     "name": "stdout",
     "output_type": "stream",
     "text": [
      "[1, 2, 3, 4, 5, 6, 7, 8, 9, 10]\n",
      "['H', 'o', 'l', 'a', ' ', 'm', 'u', 'n', 'd', 'o']\n",
      "['Hola', 'mundo']\n",
      "['Hola mundo', ' ¿que crees que quiero?']\n",
      "['Hola', 'mundo', 'como', 'estas']\n"
     ]
    }
   ],
   "source": [
    "#generar una lista con números\n",
    "lista=list(range(1,11))\n",
    "print(lista)\n",
    "\n",
    "#generar una lista a partir de una cadena\n",
    "lista=list('Hola mundo')\n",
    "print(lista)\n",
    "\n",
    "#divirdir una cadena en una lista\n",
    "cadena='Hola mundo'\n",
    "lista=cadena.split()\n",
    "print(lista)\n",
    "\n",
    "cadena='Hola mundo, ¿que crees que quiero?'\n",
    "lista=cadena.split(',')\n",
    "print(lista)\n",
    "\n",
    "#concatenar dos listas\n",
    "lista1=['Hola','mundo']\n",
    "lista2=['como','estas']\n",
    "lista3= lista1+lista2\n",
    "print(lista3)\n"
   ]
  },
  {
   "cell_type": "code",
   "execution_count": 53,
   "metadata": {},
   "outputs": [
    {
     "name": "stdout",
     "output_type": "stream",
     "text": [
      "['Hola', 'mundo', 'como', 'estas']\n",
      "['Hola', 'como', 'estas', 'mundo']\n",
      "['mundo', 'estas', 'como', 'Hola']\n"
     ]
    }
   ],
   "source": [
    "#Ordenar una lista\n",
    "#Al contrario que en las matrices, en las listas pueden están mezclados carácteres y números. \n",
    "lista=['Hola','mundo','como','estas']\n",
    "print(lista)\n",
    "lista.sort()\n",
    "print(lista)\n",
    "lista.reverse()\n",
    "print(lista)"
   ]
  },
  {
   "cell_type": "code",
   "execution_count": 54,
   "metadata": {},
   "outputs": [
    {
     "name": "stdout",
     "output_type": "stream",
     "text": [
      "['Hola', 'mundo', 'como', 'estas']\n",
      "['Hola', 'mundo', 'como', 'estas']\n"
     ]
    }
   ],
   "source": [
    "#Copiar una lista\n",
    "lista=['Hola','mundo','como','estas']\n",
    "print(lista)\n",
    "lista2=lista.copy()\n",
    "print(lista2)"
   ]
  },
  {
   "cell_type": "code",
   "execution_count": 55,
   "metadata": {},
   "outputs": [
    {
     "name": "stdout",
     "output_type": "stream",
     "text": [
      "['Hola', 'mundo', 'como', 'estas']\n",
      "El número de elementos es: 4\n",
      "Hola está en la lista: True\n",
      "Hola está en la lista: False\n"
     ]
    }
   ],
   "source": [
    "\n",
    "#Contar elementos de una lista\n",
    "lista=['Hola','mundo','como','estas']\n",
    "print(lista)\n",
    "print(f'El número de elementos es: {len(lista)}')\n",
    "\n",
    "#Pertenencia de un elemento en una lista\n",
    "print(f'Hola está en la lista: {\"Hola\" in lista }')\n",
    "print(f'Hola está en la lista: {\"Hola\" not in lista}')\n",
    "\n"
   ]
  },
  {
   "cell_type": "code",
   "execution_count": null,
   "metadata": {},
   "outputs": [],
   "source": [
    "#Buscar elementos de una lista\n",
    "lista=['Hola','mundo','como','estas']\n",
    "print(lista)\n",
    "print(f'Hola está en la lista: { }')"
   ]
  },
  {
   "cell_type": "code",
   "execution_count": 56,
   "metadata": {},
   "outputs": [
    {
     "name": "stdout",
     "output_type": "stream",
     "text": [
      "['Hola', 'mundo', 'como', 'estas']\n",
      "['Hola', 'mundo', 'como', 'estas']\n",
      "La lista 1 es igual a la lista 2: True\n",
      "La lista 1 es diferente a la lista 2: False\n"
     ]
    }
   ],
   "source": [
    "#Operadores de listas\n",
    "lista=['Hola','mundo','como','estas']\n",
    "print(lista)\n",
    "lista2=['Hola','mundo','como','estas']\n",
    "print(lista2)\n",
    "print(f'La lista 1 es igual a la lista 2: {lista==lista2}')\n",
    "print(f'La lista 1 es diferente a la lista 2: {lista!=lista2}')"
   ]
  },
  {
   "cell_type": "markdown",
   "metadata": {},
   "source": [
    "En la siguiente celda pide una línea por teclado con el nombre y los dos apellidos y muestra una salida con los apellidos y el nombre con su primera letra mayúscula. "
   ]
  },
  {
   "cell_type": "markdown",
   "metadata": {},
   "source": [
    "Para saber más sobre listas [Pulsar](https://docs.python.org/3/tutorial/datastructures.html)"
   ]
  },
  {
   "cell_type": "markdown",
   "metadata": {},
   "source": [
    "### Tuplas __TUPLES__"
   ]
  },
  {
   "cell_type": "code",
   "execution_count": 57,
   "metadata": {},
   "outputs": [
    {
     "name": "stdout",
     "output_type": "stream",
     "text": [
      "('Hola', 'mundo', 'como', 'estas')\n",
      "('Hola', 'mundo', 'como', 'estas')\n",
      "La tupla 1 es igual a la tupla 2: True\n",
      "La tupla 1 es diferente a la tupla 2: False\n"
     ]
    }
   ],
   "source": [
    "#Son como listas pero entre corchetes, con la diferencia que en estas las dimensiones son fijas.\n",
    "#Se usan para planos ej.\n",
    "tupla=('Hola','mundo','como','estas')\n",
    "print(tupla)\n",
    "tupla2=('Hola','mundo','como','estas')\n",
    "print(tupla2)\n",
    "print(f'La tupla 1 es igual a la tupla 2: {tupla==tupla2}')\n",
    "print(f'La tupla 1 es diferente a la tupla 2: {tupla!=tupla2}')"
   ]
  },
  {
   "cell_type": "code",
   "execution_count": 58,
   "metadata": {},
   "outputs": [
    {
     "name": "stdout",
     "output_type": "stream",
     "text": [
      "Primer elemento :como\n",
      "Ultimo elemento :estas\n",
      "Elementos 2 y 3 :('como', 'estas')\n",
      "Invertida :('estas', 'como', 'mundo', 'Hola')\n"
     ]
    },
    {
     "ename": "TypeError",
     "evalue": "'tuple' object does not support item assignment",
     "output_type": "error",
     "traceback": [
      "\u001b[0;31m---------------------------------------------------------------------------\u001b[0m",
      "\u001b[0;31mTypeError\u001b[0m                                 Traceback (most recent call last)",
      "Cell \u001b[0;32mIn [58], line 7\u001b[0m\n\u001b[1;32m      4\u001b[0m \u001b[39mprint\u001b[39m(\u001b[39mf\u001b[39m\u001b[39m'\u001b[39m\u001b[39mElementos 2 y 3 :\u001b[39m\u001b[39m{\u001b[39;00mtupla[\u001b[39m2\u001b[39m:\u001b[39m4\u001b[39m]\u001b[39m}\u001b[39;00m\u001b[39m'\u001b[39m)\n\u001b[1;32m      5\u001b[0m \u001b[39mprint\u001b[39m(\u001b[39mf\u001b[39m\u001b[39m'\u001b[39m\u001b[39mInvertida :\u001b[39m\u001b[39m{\u001b[39;00mtupla[::\u001b[39m-\u001b[39m\u001b[39m1\u001b[39m]\u001b[39m}\u001b[39;00m\u001b[39m'\u001b[39m)\n\u001b[0;32m----> 7\u001b[0m tupla[\u001b[39m0\u001b[39;49m]\u001b[39m=\u001b[39m\u001b[39m'\u001b[39m\u001b[39mHola mundo\u001b[39m\u001b[39m'\u001b[39m\n",
      "\u001b[0;31mTypeError\u001b[0m: 'tuple' object does not support item assignment"
     ]
    }
   ],
   "source": [
    "tupla=('Hola','mundo','como','estas')\n",
    "print(f'Primer elemento :{tupla[2]}')\n",
    "print(f'Ultimo elemento :{tupla[-1]}')\n",
    "print(f'Elementos 2 y 3 :{tupla[2:4]}')\n",
    "print(f'Invertida :{tupla[::-1]}')\n",
    "\n",
    "tupla[0]='Hola mundo'\n",
    "#Aquí da error porque no me permite variar la dimensión. "
   ]
  },
  {
   "cell_type": "code",
   "execution_count": 60,
   "metadata": {},
   "outputs": [
    {
     "name": "stdout",
     "output_type": "stream",
     "text": [
      "[('Hola', 0), ('mundo', 1), ('como', 2), ('estas', 3)]\n"
     ]
    }
   ],
   "source": [
    "#Pongo el primer número de la lista, el último que no va a estar, y luego el incremento que quiero(incluso el incremento negativo).\n",
    "#Ej: range(1,11,2)=[1,3,5,7,9]\n",
    "# range(9,0,-2)=[9,7,5,3,1]\n",
    "#combina dos listas\n",
    "lista1=['Hola','mundo','como','estas']\n",
    "lista2=range(0,len(lista1))\n",
    "lista3=list(zip(lista1,lista2))\n",
    "#EL PRIMER ELEMENTO DE LA LISTA 1 Y 2 JUNTOS ETC. \n",
    "print(lista3)"
   ]
  },
  {
   "cell_type": "markdown",
   "metadata": {},
   "source": [
    "### Diccionarios __DIC__"
   ]
  },
  {
   "cell_type": "code",
   "execution_count": 61,
   "metadata": {},
   "outputs": [
    {
     "name": "stdout",
     "output_type": "stream",
     "text": [
      "{'Nombre': 'Juan', 'Edad': 20, 'Carrera': 'Ingenieria'}\n",
      "Nombre: Juan\n",
      "Edad: 20\n",
      "Carrera: Ingenieria\n"
     ]
    }
   ],
   "source": [
    "diccionario={'Nombre':'Juan','Edad':20,'Carrera':'Ingenieria'}\n",
    "#TOO puedo usar tupplas. Ej:(0,5):5\n",
    "print(diccionario)\n",
    "print(f'Nombre: {diccionario[\"Nombre\"]}')\n",
    "print(f'Edad: {diccionario[\"Edad\"]}')\n",
    "print(f'Carrera: {diccionario[\"Carrera\"]}')"
   ]
  },
  {
   "cell_type": "code",
   "execution_count": 62,
   "metadata": {},
   "outputs": [
    {
     "name": "stdout",
     "output_type": "stream",
     "text": [
      "{}\n"
     ]
    }
   ],
   "source": [
    "#diccionario vacio \n",
    "diccionario={}\n",
    "print(diccionario)"
   ]
  },
  {
   "cell_type": "code",
   "execution_count": 64,
   "metadata": {},
   "outputs": [
    {
     "name": "stdout",
     "output_type": "stream",
     "text": [
      "{'Nombre': 'Pedro'}\n"
     ]
    }
   ],
   "source": [
    "#asignación de un elemento\n",
    "diccionario['Nombre']='Pedro'\n",
    "print(diccionario)"
   ]
  },
  {
   "cell_type": "code",
   "execution_count": 65,
   "metadata": {},
   "outputs": [
    {
     "name": "stdout",
     "output_type": "stream",
     "text": [
      "Lista de llaves:dict_keys(['Nombre'])\n",
      "Lista de valores:dict_values(['Pedro'])\n",
      "Lista de pares:dict_items([('Nombre', 'Pedro')])\n"
     ]
    }
   ],
   "source": [
    "#lista de índices /keys\n",
    "print(f'Lista de llaves:{diccionario.keys()}')\n",
    "#lista de valores\n",
    "print(f'Lista de valores:{diccionario.values()}')\n",
    "#lista de pares\n",
    "print(f'Lista de pares:{diccionario.items()}')\n"
   ]
  },
  {
   "cell_type": "code",
   "execution_count": 66,
   "metadata": {},
   "outputs": [
    {
     "name": "stdout",
     "output_type": "stream",
     "text": [
      "{'Nombre': 'Pedro', 'Teléfono': '555555555'}\n"
     ]
    }
   ],
   "source": [
    "#añadir un elemento con clave nueva\n",
    "diccionario['Teléfono']='555555555'\n",
    "print(diccionario)"
   ]
  },
  {
   "cell_type": "markdown",
   "metadata": {},
   "source": [
    "## Estructuras de control __CONTROL__"
   ]
  },
  {
   "cell_type": "markdown",
   "metadata": {},
   "source": [
    "### Decisión __IF__"
   ]
  },
  {
   "cell_type": "markdown",
   "metadata": {},
   "source": [
    "~~~\n",
    "if [condicion] :\n",
    "    [acción]\n",
    "else\n",
    "    [acción]\n",
    "~~~"
   ]
  },
  {
   "cell_type": "code",
   "execution_count": null,
   "metadata": {},
   "outputs": [],
   "source": [
    "apellido=input('Ingrese su apellido (sin acentos): ').upper()\n",
    "if apellido in ['JIMENEZ','LOPEZ','GARCIA']:\n",
    "    print(f'Premio por apedillarse {apellido}')\n",
    "else:\n",
    "    print(f'No se le otorga el premio a {apellido}')\n",
    "\n",
    "print(f'El número de caracteres es: {len(apellido)}')"
   ]
  },
  {
   "cell_type": "markdown",
   "metadata": {},
   "source": [
    "~~~\n",
    "if [condición1]:\n",
    "    [acción 1]\n",
    "elif [condicción 2]:\n",
    "    [acción 2]\n",
    ".................\n",
    "elif [condición n]:\n",
    "    [acción n]\n",
    "else:\n",
    "    [acción]\n",
    "~~~"
   ]
  },
  {
   "cell_type": "code",
   "execution_count": null,
   "metadata": {},
   "outputs": [],
   "source": [
    "fecha=input('Ingrese su fecha de nacimiento (dd/mm/aaaa): ').split('/')\n",
    "dia,mes=int(fecha[0]),int(fecha[1])\n",
    "#calcular tu signo del zodiaco\n",
    "if mes==1:\n",
    "    if dia<=19:\n",
    "        print('Capricornio')\n",
    "    else:\n",
    "        print('Acuario')\n",
    "elif mes==2:\n",
    "    if dia<=18:\n",
    "        print('Acuario')\n",
    "    else:\n",
    "        print('Piscis')\n",
    "elif mes==3:\n",
    "    if dia<=20:\n",
    "        print('Piscis')\n",
    "    else:\n",
    "        print('Aries')\n",
    "elif mes==4:\n",
    "    if dia<=19:\n",
    "        print('Aries')\n",
    "    else:\n",
    "        print('Tauro')\n",
    "elif mes==5:\n",
    "    if dia<=20:\n",
    "        print('Tauro')\n",
    "    else:\n",
    "        print('Geminis')\n",
    "elif mes==6:\n",
    "    if dia<=20:\n",
    "        print('Geminis')\n",
    "    else:\n",
    "        print('Cancer')\n",
    "elif mes==7:\n",
    "    if dia<=22:\n",
    "        print('Cancer')\n",
    "    else:\n",
    "        print('Leo')\n",
    "elif mes==8:\n",
    "    if dia<=22:\n",
    "        print('Leo')\n",
    "    else:\n",
    "        print('Virgo')\n",
    "elif mes==9:\n",
    "    if dia<=22:\n",
    "        print('Virgo')\n",
    "    else:\n",
    "        print('Libra')\n",
    "elif mes==10:\n",
    "    if dia<=22:\n",
    "        print('Libra')\n",
    "    else:\n",
    "        print('Escorpio')\n",
    "elif mes==11:\n",
    "    if dia<=21:\n",
    "        print('Escorpio')\n",
    "    else:\n",
    "        print('Sagitario')\n",
    "else:\n",
    "    if dia<=21:\n",
    "        print('Sagitario')\n",
    "    else:\n",
    "        print('Capricornio')\n",
    "    "
   ]
  },
  {
   "cell_type": "markdown",
   "metadata": {},
   "source": [
    "### Bucles __FOR/WHILE__"
   ]
  },
  {
   "cell_type": "markdown",
   "metadata": {},
   "source": [
    "~~~\n",
    "for [variable] in [lista/conjunto]:\n",
    "    [acciones]\n",
    "~~~"
   ]
  },
  {
   "cell_type": "code",
   "execution_count": null,
   "metadata": {},
   "outputs": [],
   "source": [
    "for numero in range():\n",
    "    print(numero)"
   ]
  },
  {
   "cell_type": "markdown",
   "metadata": {},
   "source": [
    "**Saltarse** algún elemento **continue**"
   ]
  },
  {
   "cell_type": "code",
   "execution_count": null,
   "metadata": {},
   "outputs": [],
   "source": [
    "for numero in range(10,0,-1):\n",
    "    if numero%2==0:\n",
    "        \n",
    "    print(numero)"
   ]
  },
  {
   "cell_type": "markdown",
   "metadata": {},
   "source": [
    "**Terminar antes** del último elemento **break**"
   ]
  },
  {
   "cell_type": "code",
   "execution_count": null,
   "metadata": {},
   "outputs": [],
   "source": [
    "for mes in ['Enero','Febrero','Marzo','Abril','Mayo','Junio','Julio','Agosto','Septiembre','Octubre','Noviembre','Diciembre']:\n",
    "    if mes=='Julio':\n",
    "        \n",
    "    print(mes)"
   ]
  },
  {
   "cell_type": "markdown",
   "metadata": {},
   "source": [
    "Costrucción compacta de listas"
   ]
  },
  {
   "cell_type": "code",
   "execution_count": null,
   "metadata": {},
   "outputs": [],
   "source": [
    "numeros=[1,2,3,4,5,6,7,8,9,10]\n",
    "listaPares=[num for num in numeros ]\n",
    "print(listaPares)\n"
   ]
  },
  {
   "cell_type": "markdown",
   "metadata": {},
   "source": [
    "¿Cuales son los meses que sumando la longitud de su nombre al número de mes , comenzando desde 1, obtenemos un valor par?"
   ]
  },
  {
   "cell_type": "code",
   "execution_count": null,
   "metadata": {},
   "outputs": [],
   "source": [
    "meses=['Enero','Febrero','Marzo','Abril','Mayo','Junio','Julio','Agosto','Septiembre','Octubre','Noviembre','Diciembre']\n",
    "numero=list(range(1,13))\n",
    "longitud=[]\n",
    "meses_y_numero=list(zip(longitud,numero))\n",
    "print(meses_y_numero)\n",
    "solucion=[meses[mes-1] for (lg,mes) in   if (lg+mes)%2==0]\n",
    "print(solucion)\n"
   ]
  },
  {
   "cell_type": "markdown",
   "metadata": {},
   "source": [
    "Lista todas las combinaciones de 3 colores distintos entre ['rojo','verde','azul']"
   ]
  },
  {
   "cell_type": "code",
   "execution_count": null,
   "metadata": {},
   "outputs": [],
   "source": [
    "colores=['rojo','verde','azul']\n",
    "[(color1,color2,color3) for color1 in colores for color2 in colores for color3 in colores if ]"
   ]
  },
  {
   "cell_type": "markdown",
   "metadata": {},
   "source": [
    "~~~\n",
    "while [condición]:\n",
    "    [acción]\n",
    "~~~"
   ]
  },
  {
   "cell_type": "markdown",
   "metadata": {},
   "source": [
    "Calcular la sucesión de Fibonacci:\n",
    "\n",
    "- $s_0 = 0$\n",
    "- $s_1 = 1$\n",
    "- $s_n=s_{n-1}+s_{n-2}$"
   ]
  },
  {
   "cell_type": "code",
   "execution_count": null,
   "metadata": {},
   "outputs": [],
   "source": [
    "#calcula la función de fibonacci\n",
    "n_0=0\n",
    "n_1=1\n",
    "n=int(input('Ingrese el número de elementos de la serie: '))\n",
    "serie=[n_0,n_1]\n",
    "while <n:\n",
    "    n_2=n_0+n_1\n",
    "    n_0=n_1\n",
    "    \n",
    "    serie.append(n_2)\n",
    "print(serie)\n",
    "\n"
   ]
  },
  {
   "cell_type": "markdown",
   "metadata": {},
   "source": [
    "## Funciones __DEF__"
   ]
  },
  {
   "cell_type": "markdown",
   "metadata": {},
   "source": [
    "~~~\n",
    "def [nombre] ([param1]:[tipo], ... , [paramN]:[tipo]]) ->[tipo]:\n",
    "    [acciones]\n",
    "    return [valor]\n",
    "~~~"
   ]
  },
  {
   "cell_type": "code",
   "execution_count": null,
   "metadata": {},
   "outputs": [],
   "source": [
    "def fibonacci(n:int)-> list:\n",
    "    n_0=0\n",
    "    n_1=1\n",
    "    serie=[n_0,n_1]\n",
    "    while <n:\n",
    "        n_2=n_0+n_1\n",
    "        n_0=n_1\n",
    "        \n",
    "        serie.append(n_2)\n",
    "    return serie"
   ]
  },
  {
   "cell_type": "code",
   "execution_count": null,
   "metadata": {},
   "outputs": [],
   "source": [
    "fibonacci(5)"
   ]
  },
  {
   "cell_type": "markdown",
   "metadata": {},
   "source": [
    "[Criba de Eratostenes](https://es.wikipedia.org/wiki/Criba_de_Erat%C3%B3stenes)"
   ]
  },
  {
   "cell_type": "code",
   "execution_count": null,
   "metadata": {},
   "outputs": [],
   "source": [
    "#criba de eratostenes\n",
    "# Paraḿetros por defecto\n",
    "def criba_eratostenes(n:int=20)-> list:\n",
    "    lista=[True]*n\n",
    "    lista[0]=False\n",
    "    lista[1]=False\n",
    "    for i in range(2,n):\n",
    "        if lista[i]:\n",
    "            for j in :\n",
    "                lista[j]=False\n",
    "    return [i for i in range(n) if lista[i]]"
   ]
  },
  {
   "cell_type": "code",
   "execution_count": null,
   "metadata": {},
   "outputs": [],
   "source": [
    "print(criba_eratostenes())\n",
    "print(criba_eratostenes(50))"
   ]
  },
  {
   "cell_type": "code",
   "execution_count": null,
   "metadata": {},
   "outputs": [],
   "source": [
    "#Parámetros opcionales y múltiples\n",
    "def interes(capital:float,interes:float=0.05,periodo:int=1)-> float:\n",
    "    return capital*(1+interes)**periodo"
   ]
  },
  {
   "cell_type": "code",
   "execution_count": null,
   "metadata": {},
   "outputs": [],
   "source": [
    "#invocación mediante el uso del nombre de los parámetros\n",
    "print(interes(100,periodo=5,))"
   ]
  },
  {
   "cell_type": "markdown",
   "metadata": {},
   "source": [
    "## Módulos __IMPORT__"
   ]
  },
  {
   "cell_type": "markdown",
   "metadata": {},
   "source": [
    "~~~\n",
    "from [libreria] import [elementos]\n",
    "\n",
    "import [libreria] as [nuevonombre]\n",
    "~~~"
   ]
  },
  {
   "cell_type": "code",
   "execution_count": null,
   "metadata": {},
   "outputs": [],
   "source": [
    "#inclusión de un módulo sus elementos se invoca con el nombre del módulo\n",
    "\n",
    "\n",
    "def area_circulo(radio:float)-> float:\n",
    "    return math.pi*radio**2\n",
    "\n",
    "print(area_circulo(5))"
   ]
  },
  {
   "cell_type": "code",
   "execution_count": null,
   "metadata": {},
   "outputs": [],
   "source": [
    "#inclusión de un módulo renombrádolo\n",
    "import math \n",
    "\n",
    "def area_circulo(radio:float)-> float:\n",
    "    return m.pi*radio**2\n",
    "\n",
    "print(area_circulo(5))\n"
   ]
  },
  {
   "cell_type": "code",
   "execution_count": null,
   "metadata": {},
   "outputs": [],
   "source": [
    "#icluir algún elemento de un módulo\n",
    "\n",
    "\n",
    "def area_circulo(radio:float)-> float:\n",
    "    return pi*radio**2\n",
    "\n",
    "print(area_circulo(5))"
   ]
  },
  {
   "cell_type": "code",
   "execution_count": null,
   "metadata": {},
   "outputs": [],
   "source": [
    "#incluir algún elemento de un módulo renombrándolo\n",
    "from math import pi \n",
    "\n",
    "def area_circulo(radio:float)-> float:\n",
    "    return pi_math*radio**2\n",
    "\n",
    "print(area_circulo(5))\n"
   ]
  },
  {
   "cell_type": "code",
   "execution_count": null,
   "metadata": {},
   "outputs": [],
   "source": [
    "#incluir todos los elementos de un módulo\n",
    "#Utilizarlos directamente sin referencia al modulo\n",
    "from math import *\n",
    "\n",
    "def area_circulo(radio:float)-> float:\n",
    "    return pi*radio**2\n",
    "\n",
    "print()\n"
   ]
  },
  {
   "cell_type": "markdown",
   "metadata": {},
   "source": [
    "## Clases __CLASS__"
   ]
  },
  {
   "cell_type": "markdown",
   "metadata": {},
   "source": [
    "~~~\n",
    "class [Nombre] ([hereda]):\n",
    "\n",
    "    def __init__ (self, ....):\n",
    "\n",
    "    def [metodo] (self, ...):\n",
    "~~~"
   ]
  },
  {
   "cell_type": "code",
   "execution_count": null,
   "metadata": {},
   "outputs": [],
   "source": [
    "class Persona:\n",
    "    def __init__(self,nombre:str,edad:int):\n",
    "        self.nombre=nombre\n",
    "        self.edad=edad\n",
    "    def saludar(self):\n",
    "        print(f'Hola, me llamo {self.nombre} y tengo {self.edad} años')\n",
    "\n",
    "\n",
    "class Empleado(Persona):\n",
    "    def __init__(self,nombre:str,edad:int,sueldo:float):\n",
    "        super().__init__(nombre,edad)\n",
    "        self.sueldo=sueldo\n",
    "    def saludar(self):\n",
    "        super().saludar()\n",
    "        print(f'Mi sueldo es de {self.sueldo}')\n",
    "\n",
    "yo=\n",
    "yo.saludar()\n",
    "\n",
    "miAmigo=\n",
    "miAmigo.saludar()    "
   ]
  }
 ],
 "metadata": {
  "kernelspec": {
   "display_name": "Python 3.10.8 64-bit",
   "language": "python",
   "name": "python3"
  },
  "language_info": {
   "codemirror_mode": {
    "name": "ipython",
    "version": 3
   },
   "file_extension": ".py",
   "mimetype": "text/x-python",
   "name": "python",
   "nbconvert_exporter": "python",
   "pygments_lexer": "ipython3",
   "version": "3.10.8"
  },
  "vscode": {
   "interpreter": {
    "hash": "949777d72b0d2535278d3dc13498b2535136f6dfe0678499012e853ee9abcab1"
   }
  }
 },
 "nbformat": 4,
 "nbformat_minor": 2
}
