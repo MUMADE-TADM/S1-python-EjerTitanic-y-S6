{
 "cells": [
  {
   "cell_type": "markdown",
   "metadata": {
    "slideshow": {
     "slide_type": "slide"
    }
   },
   "source": [
    "# Lenguaje __PYTHON 3.x__\n",
    "\n",
    "Referencia y documentación oficial [Pulsar](https://docs.python.org/es/3/index.html)"
   ]
  },
  {
   "cell_type": "markdown",
   "metadata": {
    "slideshow": {
     "slide_type": "slide"
    }
   },
   "source": [
    "## Variable __SIMPLES__"
   ]
  },
  {
   "cell_type": "markdown",
   "metadata": {
    "slideshow": {
     "slide_type": "subslide"
    }
   },
   "source": [
    "### Cadenas __STRING__"
   ]
  },
  {
   "cell_type": "code",
   "execution_count": null,
   "metadata": {
    "slideshow": {
     "slide_type": "fragment"
    }
   },
   "outputs": [],
   "source": [
    "cadena='Hola mundo'\n",
    "print(cadena)"
   ]
  },
  {
   "cell_type": "code",
   "execution_count": null,
   "metadata": {
    "slideshow": {
     "slide_type": "fragment"
    }
   },
   "outputs": [],
   "source": [
    "nombre=input('Ingrese su nombre: ')\n",
    "print('Hola ',nombre)\n",
    "print(f'Hola {nombre}')"
   ]
  },
  {
   "cell_type": "code",
   "execution_count": null,
   "metadata": {
    "slideshow": {
     "slide_type": "subslide"
    }
   },
   "outputs": [],
   "source": [
    "# Prime letra en mayuscula\n",
    "nombre=nombre.capitalize()\n",
    "print(nombre)\n",
    "# Todo a mayúsculas\n",
    "nombre=nombre.upper()\n",
    "print(nombre)\n",
    "# Todo a minúsculas\n",
    "nombre=nombre.lower()\n",
    "print(nombre)\n",
    "# Semejante a capitalize\n",
    "nombre=nombre.title()\n",
    "print(nombre)\n",
    "# Cambia mayusculas a minusculas y viceversa\n",
    "nombre=nombre.swapcase()\n",
    "print(nombre)\n",
    "# Elimina espacios en blanco al inicio y final de la cadena\n",
    "cadena=\" esto es una cadena  \"\n",
    "print(f'>{cadena}<')\n",
    "cadena=cadena.strip()\n",
    "print(f'>{cadena}<')\n",
    "#longitud de la cadena\n",
    "print(len(cadena))\n",
    "\n"
   ]
  },
  {
   "cell_type": "markdown",
   "metadata": {
    "slideshow": {
     "slide_type": "subslide"
    }
   },
   "source": [
    "En la siguiente celda escriba un código de python que lea su nombre y sus apellidos y los muestre sin blancos al principio ni al final con un mensaje con el siguiente formato : \n",
    "\n",
    "**Hola** \\<Nombre\\>**, me gusta como suena** \\<Apellido\\> **como apellido**.\n",
    "\n",
    "- \\<Nombre\\> en formato con la primera letra en Mayúscula y el resto en minúsculas.\n",
    "- \\<Apellido\\> todo en mayúscula sin blancos al principio y al final.\n",
    "\n",
    "Utiliza f cadenas."
   ]
  },
  {
   "cell_type": "code",
   "execution_count": null,
   "metadata": {
    "slideshow": {
     "slide_type": "subslide"
    }
   },
   "outputs": [],
   "source": [
    "#concatenar dos cadenas\n",
    "cadena1='Hola'\n",
    "cadena2=' mundo'\n",
    "cadena3=cadena1+cadena2\n",
    "print(cadena3)"
   ]
  },
  {
   "cell_type": "markdown",
   "metadata": {
    "slideshow": {
     "slide_type": "fragment"
    }
   },
   "source": [
    "Para saber más funcionalidades de las cadenas. [**Pulsa**](https://docs.python.org/es/3/library/string.html)"
   ]
  },
  {
   "cell_type": "markdown",
   "metadata": {
    "slideshow": {
     "slide_type": "subslide"
    }
   },
   "source": [
    "### Números"
   ]
  },
  {
   "cell_type": "markdown",
   "metadata": {
    "slideshow": {
     "slide_type": "subslide"
    }
   },
   "source": [
    "#### Enteros __INT__"
   ]
  },
  {
   "cell_type": "code",
   "execution_count": null,
   "metadata": {
    "slideshow": {
     "slide_type": "fragment"
    }
   },
   "outputs": [],
   "source": [
    "numero=45\n",
    "cadena4=str(numero)\n",
    "print(cadena4)\n",
    "numero=int(cadena4)\n",
    "print(numero)"
   ]
  },
  {
   "cell_type": "code",
   "execution_count": null,
   "metadata": {
    "slideshow": {
     "slide_type": "fragment"
    }
   },
   "outputs": [],
   "source": [
    "edad=int(input('Ingrese su edad: '))\n",
    "print(f'Su edad es {edad}')\n",
    "print(type(edad))\n",
    "\n",
    "dias=365*edad\n",
    "print(f'Usted tiene {dias} dias de vida')\n",
    "\n",
    "segundos=dias*24*60*60\n",
    "print(f'Usted tiene {segundos} segundos de vida')\n",
    "\n",
    "nanosegundos=segundos*1000000000\n",
    "print(f'Usted tiene {nanosegundos} nanosegundos de vida')\n"
   ]
  },
  {
   "cell_type": "code",
   "execution_count": null,
   "metadata": {
    "slideshow": {
     "slide_type": "subslide"
    }
   },
   "outputs": [],
   "source": [
    "print(f'Potencia {5**2}')\n",
    "print(f'Raiz cuadrada {5 // 2}')\n",
    "print(f'Resto {5 % 2}')"
   ]
  },
  {
   "cell_type": "markdown",
   "metadata": {
    "slideshow": {
     "slide_type": "fragment"
    }
   },
   "source": [
    "Calcula en la siguiente celda el número de semana, completas, que han trascurrido desde el nacimiento de la **Tierra** hace 4540 millones de años"
   ]
  },
  {
   "cell_type": "code",
   "execution_count": null,
   "metadata": {
    "slideshow": {
     "slide_type": "skip"
    }
   },
   "outputs": [],
   "source": []
  },
  {
   "cell_type": "markdown",
   "metadata": {
    "slideshow": {
     "slide_type": "subslide"
    }
   },
   "source": [
    "#### Reales __FLOAT__"
   ]
  },
  {
   "cell_type": "code",
   "execution_count": null,
   "metadata": {
    "slideshow": {
     "slide_type": "fragment"
    }
   },
   "outputs": [],
   "source": [
    "real=3.14159265\n",
    "print(f'{real}')"
   ]
  },
  {
   "cell_type": "code",
   "execution_count": null,
   "metadata": {
    "slideshow": {
     "slide_type": "fragment"
    }
   },
   "outputs": [],
   "source": [
    "real=10/3\n",
    "print(f'{real}')\n",
    "print(f'{real:.2f}')"
   ]
  },
  {
   "cell_type": "code",
   "execution_count": null,
   "metadata": {
    "slideshow": {
     "slide_type": "fragment"
    }
   },
   "outputs": [],
   "source": [
    "#Cotización de dólares\n",
    "dolares=float(input('Ingrese el valor en euros: '))\n",
    "print(f'El valor en dólares es: {dolares*1.18}')"
   ]
  },
  {
   "cell_type": "code",
   "execution_count": null,
   "metadata": {
    "slideshow": {
     "slide_type": "subslide"
    }
   },
   "outputs": [],
   "source": [
    "#float operadores\n",
    "numero1=float(input('Ingrese el primer número: '))\n",
    "numero2=float(input('Ingrese el segundo número: '))\n",
    "print(f'La suma es: {numero1+numero2}')\n",
    "print(f'La resta es: {numero1-numero2}')\n",
    "print(f'La multiplicación es: {numero1*numero2}')\n",
    "print(f'La división es: {numero1/numero2}')\n",
    "print(f'La división entera es: {numero1//numero2}')\n",
    "print(f'La resto es: {numero1%numero2}')\n",
    "print(f'La potencia es: {numero1**numero2}')\n"
   ]
  },
  {
   "cell_type": "markdown",
   "metadata": {
    "slideshow": {
     "slide_type": "subslide"
    }
   },
   "source": [
    "El la siguiente celda calcula el área de un círculo, en m^2, pidiendo el radio del mismo en mm.\n",
    "\n",
    "Muestra el resultado con 2 decimales."
   ]
  },
  {
   "cell_type": "code",
   "execution_count": null,
   "metadata": {
    "slideshow": {
     "slide_type": "skip"
    }
   },
   "outputs": [],
   "source": []
  },
  {
   "cell_type": "markdown",
   "metadata": {
    "slideshow": {
     "slide_type": "subslide"
    }
   },
   "source": [
    "### Lógicas __BOOL__"
   ]
  },
  {
   "cell_type": "code",
   "execution_count": null,
   "metadata": {
    "slideshow": {
     "slide_type": "fragment"
    }
   },
   "outputs": [],
   "source": [
    "Verdadero=True\n",
    "Falso=False\n",
    "\n",
    "print(f'Y:{Verdadero and Verdadero}')\n",
    "print(f'Y:{Verdadero and Falso}')\n",
    "print(f'O:{Verdadero or Falso}')\n",
    "print(f'O:{Verdadero or Verdadero}')\n",
    "print(f'NO:{not Verdadero}')\n",
    "print(f'NO:{not Falso}')\n"
   ]
  },
  {
   "cell_type": "code",
   "execution_count": null,
   "metadata": {
    "slideshow": {
     "slide_type": "subslide"
    }
   },
   "outputs": [],
   "source": [
    "#Operadores de comparación con números\n",
    "numero1=int(input('Ingrese el primer número: '))\n",
    "numero2=int(input('Ingrese el segundo número: '))\n",
    "print(f'{numero1} es mayor que {numero2}: {numero1>numero2}')\n",
    "print(f'{numero1} es menor que {numero2}: {numero1<numero2}')\n",
    "print(f'{numero1} es mayor o igual que {numero2}: {numero1>=numero2}')\n",
    "print(f'{numero1} es menor o igual que {numero2}: {numero1<=numero2}')\n",
    "print(f'{numero1} es igual que {numero2}: {numero1==numero2}')  \n",
    "print(f'{numero1} es diferente que {numero2}: {numero1!=numero2}')"
   ]
  },
  {
   "cell_type": "code",
   "execution_count": null,
   "metadata": {
    "slideshow": {
     "slide_type": "subslide"
    }
   },
   "outputs": [],
   "source": [
    "#Operadores de comparación con cadenas\n",
    "cadena1=input('Ingrese la primera cadena: ')\n",
    "cadena2=input('Ingrese la segunda cadena: ')\n",
    "print(f'{cadena1} es mayor que {cadena2}: {cadena1>cadena2}')\n",
    "print(f'{cadena1} es menor que {cadena2}: {cadena1<cadena2}')\n",
    "print(f'{cadena1} es mayor o igual que {cadena2}: {cadena1>=cadena2}')\n",
    "print(f'{cadena1} es menor o igual que {cadena2}: {cadena1<=cadena2}')\n",
    "print(f'{cadena1} es igual que {cadena2}: {cadena1==cadena2}')\n",
    "print(f'{cadena1} es diferente que {cadena2}: {cadena1!=cadena2}')"
   ]
  },
  {
   "cell_type": "markdown",
   "metadata": {
    "slideshow": {
     "slide_type": "slide"
    }
   },
   "source": [
    "## Variables __COMPUESTAS__"
   ]
  },
  {
   "cell_type": "markdown",
   "metadata": {
    "slideshow": {
     "slide_type": "subslide"
    }
   },
   "source": [
    "### Listas __LIST__"
   ]
  },
  {
   "cell_type": "code",
   "execution_count": null,
   "metadata": {
    "slideshow": {
     "slide_type": "fragment"
    }
   },
   "outputs": [],
   "source": [
    "lista=['Hola','mundo','como','estas']\n",
    "print(lista)\n",
    "print(lista[0])\n",
    "print(lista[1])\n",
    "print(lista[2])\n",
    "print(lista[3])\n",
    "print(lista[-1])\n",
    "print(lista[-2])\n",
    "print(lista[-3])\n",
    "print(lista[-4])\n",
    "\n",
    "#Establecer una lista vacía\n",
    "lista=[]\n",
    "print(lista)\n",
    "\n"
   ]
  },
  {
   "cell_type": "code",
   "execution_count": null,
   "metadata": {
    "slideshow": {
     "slide_type": "subslide"
    }
   },
   "outputs": [],
   "source": [
    "#Camibiar un valor de una lista\n",
    "lista=['Hola','mundo','como','estas']\n",
    "print(lista)\n",
    "lista[0]='Hola mundo'\n",
    "print(lista)"
   ]
  },
  {
   "cell_type": "markdown",
   "metadata": {
    "slideshow": {
     "slide_type": "fragment"
    }
   },
   "source": [
    "Slice de una lista identifica una sublista\n",
    "\n",
    "lista[\\<indx inferior\\>:\\<indx superios -1\\>]"
   ]
  },
  {
   "cell_type": "code",
   "execution_count": null,
   "metadata": {
    "slideshow": {
     "slide_type": "fragment"
    }
   },
   "outputs": [],
   "source": [
    "#Rodajas de una lista\n",
    "lista=['Hola','mundo','como','estas']\n",
    "print(lista)\n",
    "print(f'elementos 0 y 1 :{lista[0:2]}')\n",
    "print(f'elementos 2 y 3 :{lista[2:4]}')\n",
    "print(f'Invertida {lista[::-1]}')"
   ]
  },
  {
   "cell_type": "code",
   "execution_count": null,
   "metadata": {
    "slideshow": {
     "slide_type": "subslide"
    }
   },
   "outputs": [],
   "source": [
    "#Agregar elementos a una lista\n",
    "lista=['Hola','mundo','como','estas']\n",
    "print(lista)\n",
    "lista.append('nuevo')\n",
    "print(lista)\n",
    "lista.insert(0,'nuevo')\n",
    "print(lista)\n"
   ]
  },
  {
   "cell_type": "code",
   "execution_count": null,
   "metadata": {
    "slideshow": {
     "slide_type": "subslide"
    }
   },
   "outputs": [],
   "source": [
    "#Eliminar elementos de una lista\n",
    "lista=['Hola','mundo','como','estas']\n",
    "print(lista)\n",
    "lista.remove('Hola')\n",
    "print(lista)\n",
    "lista.pop()\n",
    "print(lista)\n",
    "lista.pop(0)\n",
    "print(lista)"
   ]
  },
  {
   "cell_type": "code",
   "execution_count": null,
   "metadata": {
    "slideshow": {
     "slide_type": "subslide"
    }
   },
   "outputs": [],
   "source": [
    "#generar una lista con números\n",
    "lista=list(range(1,11))\n",
    "print(lista)\n",
    "\n",
    "#generar una lista a partir de una cadena\n",
    "lista=list('Hola mundo')\n",
    "print(lista)\n",
    "\n",
    "#divirdir una cadena en una lista\n",
    "cadena='Hola mundo'\n",
    "lista=cadena.split()\n",
    "print(lista)\n",
    "\n",
    "cadena='Hola mundo, ¿que crees que quiero?'\n",
    "lista=cadena.split(',')\n",
    "print(lista)\n",
    "\n",
    "#concatenar dos listas\n",
    "lista1=['Hola','mundo']\n",
    "lista2=['como','estas']\n",
    "lista3=lista1+lista2\n",
    "print(lista3)"
   ]
  },
  {
   "cell_type": "code",
   "execution_count": null,
   "metadata": {
    "slideshow": {
     "slide_type": "subslide"
    }
   },
   "outputs": [],
   "source": [
    "#Ordenar una lista\n",
    "lista=['Hola','mundo','como','estas']\n",
    "print(lista)\n",
    "lista.sort()\n",
    "print(lista)\n",
    "lista.reverse()\n",
    "print(lista)"
   ]
  },
  {
   "cell_type": "code",
   "execution_count": null,
   "metadata": {
    "slideshow": {
     "slide_type": "fragment"
    }
   },
   "outputs": [],
   "source": [
    "#Copiar una lista\n",
    "lista=['Hola','mundo','como','estas']\n",
    "print(lista)\n",
    "lista2=lista.copy()\n",
    "print(lista2)"
   ]
  },
  {
   "cell_type": "code",
   "execution_count": null,
   "metadata": {
    "slideshow": {
     "slide_type": "subslide"
    }
   },
   "outputs": [],
   "source": [
    "\n",
    "#Contar elementos de una lista\n",
    "lista=['Hola','mundo','como','estas']\n",
    "print(lista)\n",
    "print(f'El número de elementos es: {len(lista)}')\n",
    "\n",
    "#Pertenencia de un elemento en una lista\n",
    "print(f'Hola está en la lista: {(\"Hola\" in lista)}')\n",
    "print(f'Hola está en la lista: {(\"Hola\" not in lista)}')\n",
    "\n"
   ]
  },
  {
   "cell_type": "code",
   "execution_count": null,
   "metadata": {
    "slideshow": {
     "slide_type": "fragment"
    }
   },
   "outputs": [],
   "source": [
    "#Buscar elementos de una lista\n",
    "lista=['Hola','mundo','como','estas']\n",
    "print(lista)\n",
    "print(f'Hola está en la lista: {lista.count(\"Hola\")}')"
   ]
  },
  {
   "cell_type": "code",
   "execution_count": null,
   "metadata": {
    "slideshow": {
     "slide_type": "subslide"
    }
   },
   "outputs": [],
   "source": [
    "#Operadores de listas\n",
    "lista=['Hola','mundo','como','estas']\n",
    "print(lista)\n",
    "lista2=['Hola','mundo','como','estas']\n",
    "print(lista2)\n",
    "print(f'La lista 1 es igual a la lista 2: {lista==lista2}')\n",
    "print(f'La lista 1 es diferente a la lista 2: {lista!=lista2}')"
   ]
  },
  {
   "cell_type": "markdown",
   "metadata": {
    "slideshow": {
     "slide_type": "fragment"
    }
   },
   "source": [
    "En la siguiente celda pide una línea por teclado con el nombre y los dos apellidos y muestra una salida con los apellidos y el nombre con su primera letra mayúscula. "
   ]
  },
  {
   "cell_type": "markdown",
   "metadata": {
    "slideshow": {
     "slide_type": "fragment"
    }
   },
   "source": [
    "Para saber más sobre listas [Pulsar](https://docs.python.org/3/tutorial/datastructures.html)"
   ]
  },
  {
   "cell_type": "markdown",
   "metadata": {
    "slideshow": {
     "slide_type": "subslide"
    }
   },
   "source": [
    "### Tuplas __TUPLES__"
   ]
  },
  {
   "cell_type": "code",
   "execution_count": null,
   "metadata": {
    "slideshow": {
     "slide_type": "fragment"
    }
   },
   "outputs": [],
   "source": [
    "tupla=('Hola','mundo','como','estas')\n",
    "print(tupla)\n",
    "tupla2=('Hola','mundo','como','estas')\n",
    "print(tupla2)\n",
    "print(f'La tupla 1 es igual a la tupla 2: {tupla==tupla2}')\n",
    "print(f'La tupla 1 es diferente a la tupla 2: {tupla!=tupla2}')"
   ]
  },
  {
   "cell_type": "code",
   "execution_count": null,
   "metadata": {
    "slideshow": {
     "slide_type": "subslide"
    }
   },
   "outputs": [],
   "source": [
    "tupla=('Hola','mundo','como','estas')\n",
    "print(f'Primer elemento :{tupla[2]}')\n",
    "print(f'Ultimo elemento :{tupla[-1]}')\n",
    "print(f'Elementos 2 y 3 :{tupla[2:4]}')\n",
    "print(f'Invertida :{tupla[::-1]}')\n",
    "\n",
    "tupla[0]='Hola mundo'"
   ]
  },
  {
   "cell_type": "code",
   "execution_count": null,
   "metadata": {
    "slideshow": {
     "slide_type": "subslide"
    }
   },
   "outputs": [],
   "source": [
    "#combina dos listas\n",
    "lista1=['Hola','mundo','como','estas']\n",
    "lista2=range(0,len(lista1))\n",
    "lista3=list(zip(lista1,lista2))\n",
    "print(lista3)"
   ]
  },
  {
   "cell_type": "markdown",
   "metadata": {
    "slideshow": {
     "slide_type": "subslide"
    }
   },
   "source": [
    "### Diccionarios __DIC__"
   ]
  },
  {
   "cell_type": "code",
   "execution_count": null,
   "metadata": {
    "slideshow": {
     "slide_type": "fragment"
    }
   },
   "outputs": [],
   "source": [
    "diccionario={'Nombre':'Juan','Edad':20,'Carrera':'Ingenieria'}\n",
    "print(diccionario)\n",
    "print(f'Nombre: {diccionario[\"Nombre\"]}')\n",
    "print(f'Edad: {diccionario[\"Edad\"]}')\n",
    "print(f'Carrera: {diccionario[\"Carrera\"]}')"
   ]
  },
  {
   "cell_type": "code",
   "execution_count": null,
   "metadata": {
    "slideshow": {
     "slide_type": "fragment"
    }
   },
   "outputs": [],
   "source": [
    "#diccionario vacio \n",
    "diccionario={}\n",
    "print(diccionario)"
   ]
  },
  {
   "cell_type": "code",
   "execution_count": null,
   "metadata": {
    "slideshow": {
     "slide_type": "subslide"
    }
   },
   "outputs": [],
   "source": [
    "#asignación de un elemento\n",
    "diccionario['Nombre']='Pedro'\n",
    "print(diccionario)"
   ]
  },
  {
   "cell_type": "code",
   "execution_count": null,
   "metadata": {
    "slideshow": {
     "slide_type": "fragment"
    }
   },
   "outputs": [],
   "source": [
    "#lista de índices /keys\n",
    "print(f'Lista de llaves:{diccionario.keys()}')\n",
    "#lista de valores\n",
    "print(f'Lista de valores:{diccionario.values()}')\n",
    "#lista de pares\n",
    "print(f'Lista de pares:{diccionario.items()}')\n"
   ]
  },
  {
   "cell_type": "code",
   "execution_count": null,
   "metadata": {
    "slideshow": {
     "slide_type": "fragment"
    }
   },
   "outputs": [],
   "source": [
    "#añadir un elemento con clave nueva\n",
    "diccionario['Telefono']='55555555'\n",
    "print(diccionario)"
   ]
  },
  {
   "cell_type": "markdown",
   "metadata": {
    "slideshow": {
     "slide_type": "slide"
    }
   },
   "source": [
    "## Estructuras de control __CONTROL__"
   ]
  },
  {
   "cell_type": "markdown",
   "metadata": {
    "slideshow": {
     "slide_type": "subslide"
    }
   },
   "source": [
    "### Decisión __IF__"
   ]
  },
  {
   "cell_type": "markdown",
   "metadata": {
    "slideshow": {
     "slide_type": "fragment"
    }
   },
   "source": [
    "~~~\n",
    "if [condicion] :\n",
    "    [acción]\n",
    "else\n",
    "    [acción]\n",
    "~~~"
   ]
  },
  {
   "cell_type": "code",
   "execution_count": null,
   "metadata": {
    "slideshow": {
     "slide_type": "subslide"
    }
   },
   "outputs": [],
   "source": [
    "apellido=input('Ingrese su apellido (sin acentos): ').upper()\n",
    "if apellido in ['JIMENEZ','LOPEZ','GARCIA']:\n",
    "    print(f'Premio por apedillarse {apellido}')\n",
    "else:\n",
    "    print(f'No se le otorga el premio a {apellido}')\n",
    "\n",
    "print(f'El número de caracteres es: {len(apellido)}')"
   ]
  },
  {
   "cell_type": "markdown",
   "metadata": {
    "slideshow": {
     "slide_type": "subslide"
    }
   },
   "source": [
    "~~~\n",
    "if [condición1]:\n",
    "    [acción 1]\n",
    "elif [condicción 2]:\n",
    "    [acción 2]\n",
    ".................\n",
    "elif [condición n]:\n",
    "    [acción n]\n",
    "else:\n",
    "    [acción]\n",
    "~~~"
   ]
  },
  {
   "cell_type": "code",
   "execution_count": null,
   "metadata": {
    "slideshow": {
     "slide_type": "subslide"
    }
   },
   "outputs": [],
   "source": [
    "fecha=input('Ingrese su fecha de nacimiento (dd/mm/aaaa): ').split('/')\n",
    "dia,mes=int(fecha[0]),int(fecha[1])\n",
    "#calcular tu signo del zodiaco\n",
    "if mes==1:\n",
    "    if dia<=19:\n",
    "        print('Capricornio')\n",
    "    else:\n",
    "        print('Acuario')\n",
    "elif mes==2:\n",
    "    if dia<=18:\n",
    "        print('Acuario')\n",
    "    else:\n",
    "        print('Piscis')\n",
    "elif mes==3:\n",
    "    if dia<=20:\n",
    "        print('Piscis')\n",
    "    else:\n",
    "        print('Aries')\n",
    "elif mes==4:\n",
    "    if dia<=19:\n",
    "        print('Aries')\n",
    "    else:\n",
    "        print('Tauro')\n",
    "elif mes==5:\n",
    "    if dia<=20:\n",
    "        print('Tauro')\n",
    "    else:\n",
    "        print('Geminis')\n",
    "elif mes==6:\n",
    "    if dia<=20:\n",
    "        print('Geminis')\n",
    "    else:\n",
    "        print('Cancer')\n",
    "elif mes==7:\n",
    "    if dia<=22:\n",
    "        print('Cancer')\n",
    "    else:\n",
    "        print('Leo')\n",
    "elif mes==8:\n",
    "    if dia<=22:\n",
    "        print('Leo')\n",
    "    else:\n",
    "        print('Virgo')\n",
    "elif mes==9:\n",
    "    if dia<=22:\n",
    "        print('Virgo')\n",
    "    else:\n",
    "        print('Libra')\n",
    "elif mes==10:\n",
    "    if dia<=22:\n",
    "        print('Libra')\n",
    "    else:\n",
    "        print('Escorpio')\n",
    "elif mes==11:\n",
    "    if dia<=21:\n",
    "        print('Escorpio')\n",
    "    else:\n",
    "        print('Sagitario')\n",
    "else:\n",
    "    if dia<=21:\n",
    "        print('Sagitario')\n",
    "    else:\n",
    "        print('Capricornio')\n",
    "    "
   ]
  },
  {
   "cell_type": "markdown",
   "metadata": {
    "slideshow": {
     "slide_type": "subslide"
    }
   },
   "source": [
    "### Bucles __FOR/WHILE__"
   ]
  },
  {
   "cell_type": "markdown",
   "metadata": {
    "slideshow": {
     "slide_type": "fragment"
    }
   },
   "source": [
    "~~~\n",
    "for [variable] in [lista/conjunto]:\n",
    "    [acciones]\n",
    "~~~"
   ]
  },
  {
   "cell_type": "code",
   "execution_count": null,
   "metadata": {
    "slideshow": {
     "slide_type": "subslide"
    }
   },
   "outputs": [],
   "source": [
    "for numero in range(1,11,2):\n",
    "    print(numero)"
   ]
  },
  {
   "cell_type": "markdown",
   "metadata": {
    "slideshow": {
     "slide_type": "subslide"
    }
   },
   "source": [
    "**Saltarse** algún elemento **continue**"
   ]
  },
  {
   "cell_type": "code",
   "execution_count": null,
   "metadata": {
    "slideshow": {
     "slide_type": "fragment"
    }
   },
   "outputs": [],
   "source": [
    "for numero in range(10,0,-1):\n",
    "    if numero%2==0:\n",
    "        continue\n",
    "    print(numero)"
   ]
  },
  {
   "cell_type": "markdown",
   "metadata": {
    "slideshow": {
     "slide_type": "subslide"
    }
   },
   "source": [
    "**Terminar antes** del último elemento **break**"
   ]
  },
  {
   "cell_type": "code",
   "execution_count": null,
   "metadata": {
    "slideshow": {
     "slide_type": "fragment"
    }
   },
   "outputs": [],
   "source": [
    "for mes in ['Enero','Febrero','Marzo','Abril','Mayo','Junio','Julio','Agosto','Septiembre','Octubre','Noviembre','Diciembre']:\n",
    "    if mes=='Julio':\n",
    "        break\n",
    "    print(mes)"
   ]
  },
  {
   "cell_type": "markdown",
   "metadata": {
    "slideshow": {
     "slide_type": "subslide"
    }
   },
   "source": [
    "Costrucción compacta de listas"
   ]
  },
  {
   "cell_type": "code",
   "execution_count": null,
   "metadata": {
    "slideshow": {
     "slide_type": "fragment"
    }
   },
   "outputs": [],
   "source": [
    "numeros=[1,2,3,4,5,6,7,8,9,10]\n",
    "listaPares=[num for num in numeros if num%2==0]\n",
    "print(listaPares)\n"
   ]
  },
  {
   "cell_type": "markdown",
   "metadata": {
    "slideshow": {
     "slide_type": "subslide"
    }
   },
   "source": [
    "¿Cuales son los meses que sumando la longitud de su nombre al número de mes que es, comenzando desde 1, obtenemos un valor par?"
   ]
  },
  {
   "cell_type": "code",
   "execution_count": null,
   "metadata": {
    "slideshow": {
     "slide_type": "fragment"
    }
   },
   "outputs": [],
   "source": [
    "meses=['Enero','Febrero','Marzo','Abril','Mayo','Junio','Julio','Agosto','Septiembre','Octubre','Noviembre','Diciembre']\n",
    "numero=list(range(1,13))\n",
    "longitud=[len(mes) for mes in meses]\n",
    "meses_y_numero=list(zip(longitud,numero))\n",
    "print(meses_y_numero)\n",
    "solucion=[meses[mes-1] for (lg,mes) in meses_y_numero if (lg+mes)%2==0]\n",
    "print(solucion)\n"
   ]
  },
  {
   "cell_type": "markdown",
   "metadata": {
    "slideshow": {
     "slide_type": "subslide"
    }
   },
   "source": [
    "Lista todas las combinaciones de 3 colores distintos entre ['rojo','verde','azul']"
   ]
  },
  {
   "cell_type": "code",
   "execution_count": null,
   "metadata": {
    "slideshow": {
     "slide_type": "fragment"
    }
   },
   "outputs": [],
   "source": [
    "colores=['rojo','verde','azul']\n",
    "[(color1,color2,color3) for color1 in colores for color2 in colores for color3 in colores if color1!=color2 and color2!=color3 and color1!=color3]"
   ]
  },
  {
   "cell_type": "markdown",
   "metadata": {
    "slideshow": {
     "slide_type": "subslide"
    }
   },
   "source": [
    "~~~\n",
    "while [condición]:\n",
    "    [acción]\n",
    "~~~"
   ]
  },
  {
   "cell_type": "markdown",
   "metadata": {
    "slideshow": {
     "slide_type": "fragment"
    }
   },
   "source": [
    "Calcular la sucesión de Fibonacci:\n",
    "\n",
    "- $s_0 = 0$\n",
    "- $s_1 = 1$\n",
    "- $s_n=s_{n-1}+s_{n-2}$"
   ]
  },
  {
   "cell_type": "code",
   "execution_count": null,
   "metadata": {
    "slideshow": {
     "slide_type": "subslide"
    }
   },
   "outputs": [],
   "source": [
    "#calcula la función de fibonacci\n",
    "n_0=0\n",
    "n_1=1\n",
    "n=int(input('Ingrese el número de elementos de la serie: '))\n",
    "serie=[n_0,n_1]\n",
    "while len(serie)<n:\n",
    "    n_2=n_0+n_1\n",
    "    n_0=n_1\n",
    "    n_1=n_2\n",
    "    serie.append(n_2)\n",
    "print(serie)\n",
    "\n"
   ]
  },
  {
   "cell_type": "markdown",
   "metadata": {
    "slideshow": {
     "slide_type": "slide"
    }
   },
   "source": [
    "## Funciones __DEF__"
   ]
  },
  {
   "cell_type": "markdown",
   "metadata": {
    "slideshow": {
     "slide_type": "fragment"
    }
   },
   "source": [
    "~~~\n",
    "def [nombre] ([param1]:[tipo], ... , [paramN]:[tipo]]) ->[tipo]:\n",
    "    [acciones]\n",
    "    return [valor]\n",
    "~~~"
   ]
  },
  {
   "cell_type": "code",
   "execution_count": null,
   "metadata": {
    "slideshow": {
     "slide_type": "subslide"
    }
   },
   "outputs": [],
   "source": [
    "def fibonacci(n:int)-> list:\n",
    "    n_0=0\n",
    "    n_1=1\n",
    "    serie=[n_0,n_1]\n",
    "    while len(serie)<n:\n",
    "        n_2=n_0+n_1\n",
    "        n_0=n_1\n",
    "        n_1=n_2\n",
    "        serie.append(n_2)\n",
    "    return serie"
   ]
  },
  {
   "cell_type": "code",
   "execution_count": null,
   "metadata": {
    "slideshow": {
     "slide_type": "fragment"
    }
   },
   "outputs": [],
   "source": [
    "fibonacci(5)"
   ]
  },
  {
   "cell_type": "markdown",
   "metadata": {
    "slideshow": {
     "slide_type": "subslide"
    }
   },
   "source": [
    "[Criba de Eratostenes](https://es.wikipedia.org/wiki/Criba_de_Erat%C3%B3stenes)"
   ]
  },
  {
   "cell_type": "code",
   "execution_count": null,
   "metadata": {
    "slideshow": {
     "slide_type": "fragment"
    }
   },
   "outputs": [],
   "source": [
    "#criba de eratostenes\n",
    "# Paraḿetros por defecto\n",
    "def criba_eratostenes(n:int=20)-> list:\n",
    "    lista=[True]*n\n",
    "    lista[0]=False\n",
    "    lista[1]=False\n",
    "    for i in range(2,n):\n",
    "        if lista[i]:\n",
    "            for j in range(i*i,n,i):\n",
    "                lista[j]=False\n",
    "    return [i for i in range(n) if lista[i]]"
   ]
  },
  {
   "cell_type": "code",
   "execution_count": null,
   "metadata": {
    "slideshow": {
     "slide_type": "subslide"
    }
   },
   "outputs": [],
   "source": [
    "print(criba_eratostenes())\n",
    "print(criba_eratostenes(50))"
   ]
  },
  {
   "cell_type": "code",
   "execution_count": null,
   "metadata": {
    "slideshow": {
     "slide_type": "fragment"
    }
   },
   "outputs": [],
   "source": [
    "#Parámetros opcionales y múltiples\n",
    "def interes(capital:float,interes:float=0.05,periodo:int=1)-> float:\n",
    "    return capital*(1+interes)**periodo"
   ]
  },
  {
   "cell_type": "code",
   "execution_count": null,
   "metadata": {
    "slideshow": {
     "slide_type": "fragment"
    }
   },
   "outputs": [],
   "source": [
    "#invocación mediante el uso del nombre de los parámetros\n",
    "print(interes(100,periodo=5,interes=0.2))"
   ]
  },
  {
   "cell_type": "markdown",
   "metadata": {
    "slideshow": {
     "slide_type": "slide"
    }
   },
   "source": [
    "## Módulos __IMPORT__"
   ]
  },
  {
   "cell_type": "markdown",
   "metadata": {
    "slideshow": {
     "slide_type": "fragment"
    }
   },
   "source": [
    "~~~\n",
    "from [libreria] import [elementos]\n",
    "\n",
    "import [libreria] as [nuevonombre]\n",
    "~~~"
   ]
  },
  {
   "cell_type": "code",
   "execution_count": null,
   "metadata": {
    "slideshow": {
     "slide_type": "subslide"
    }
   },
   "outputs": [],
   "source": [
    "#inclusión de un módulo sus elementos se invoca con el nombre del módulo\n",
    "import math\n",
    "\n",
    "def area_circulo(radio:float)-> float:\n",
    "    return math.pi*radio**2\n",
    "\n",
    "print(area_circulo(5))"
   ]
  },
  {
   "cell_type": "code",
   "execution_count": null,
   "metadata": {
    "slideshow": {
     "slide_type": "subslide"
    }
   },
   "outputs": [],
   "source": [
    "#inclusión de un módulo renombrádolo\n",
    "import math as m\n",
    "\n",
    "def area_circulo(radio:float)-> float:\n",
    "    return m.pi*radio**2\n",
    "\n",
    "print(area_circulo(5))\n"
   ]
  },
  {
   "cell_type": "code",
   "execution_count": null,
   "metadata": {
    "slideshow": {
     "slide_type": "subslide"
    }
   },
   "outputs": [],
   "source": [
    "#icluir algún elemento de un módulo\n",
    "from math import pi\n",
    "\n",
    "def area_circulo(radio:float)-> float:\n",
    "    return pi*radio**2\n",
    "\n",
    "print(area_circulo(5))"
   ]
  },
  {
   "cell_type": "code",
   "execution_count": null,
   "metadata": {
    "slideshow": {
     "slide_type": "subslide"
    }
   },
   "outputs": [],
   "source": [
    "#incluir algún elemento de un módulo renombrándolo\n",
    "from math import pi as pi_math\n",
    "\n",
    "def area_circulo(radio:float)-> float:\n",
    "    return pi_math*radio**2\n",
    "\n",
    "print(area_circulo(5))\n"
   ]
  },
  {
   "cell_type": "code",
   "execution_count": null,
   "metadata": {
    "slideshow": {
     "slide_type": "subslide"
    }
   },
   "outputs": [],
   "source": [
    "#incluir todos los elementos de un módulo\n",
    "#Utilizarlos directamente sin referencia al modulo\n",
    "from math import *\n",
    "\n",
    "def area_circulo(radio:float)-> float:\n",
    "    return pi*radio**2\n",
    "\n",
    "print(area_circulo(5))\n"
   ]
  },
  {
   "cell_type": "markdown",
   "metadata": {
    "slideshow": {
     "slide_type": "slide"
    }
   },
   "source": [
    "## Clases __CLASS__"
   ]
  },
  {
   "cell_type": "markdown",
   "metadata": {
    "slideshow": {
     "slide_type": "fragment"
    }
   },
   "source": [
    "~~~\n",
    "class [Nombre] ([hereda]):\n",
    "\n",
    "    def __init__ (self, ....):\n",
    "\n",
    "    def [metodo] (self, ...):\n",
    "~~~"
   ]
  },
  {
   "cell_type": "code",
   "execution_count": null,
   "metadata": {
    "slideshow": {
     "slide_type": "subslide"
    }
   },
   "outputs": [],
   "source": [
    "class Persona:\n",
    "    def __init__(self,nombre:str,edad:int):\n",
    "        self.nombre=nombre\n",
    "        self.edad=edad\n",
    "    def saludar(self):\n",
    "        print(f'Hola, me llamo {self.nombre} y tengo {self.edad} años')\n",
    "\n",
    "\n",
    "class Empleado(Persona):\n",
    "    def __init__(self,nombre:str,edad:int,sueldo:float):\n",
    "        super().__init__(nombre,edad)\n",
    "        self.sueldo=sueldo\n",
    "    def saludar(self):\n",
    "        super().saludar()\n",
    "        print(f'Mi sueldo es de {self.sueldo}')\n",
    "\n",
    "yo=Empleado('Juan',30,1000)\n",
    "yo.saludar()\n",
    "\n",
    "miAmigo=Empleado('Pedro',25,2000)\n",
    "miAmigo.saludar()    "
   ]
  }
 ],
 "metadata": {
  "celltoolbar": "Slideshow",
  "interpreter": {
   "hash": "0e0506e63b169ae815bdb0eedf2fdd2560ecee6ebc55cead8773b6e94279e94a"
  },
  "kernelspec": {
   "display_name": "Python TADM",
   "language": "python",
   "name": "tadm"
  },
  "language_info": {
   "codemirror_mode": {
    "name": "ipython",
    "version": 3
   },
   "file_extension": ".py",
   "mimetype": "text/x-python",
   "name": "python",
   "nbconvert_exporter": "python",
   "pygments_lexer": "ipython3",
   "version": "3.8.12"
  }
 },
 "nbformat": 4,
 "nbformat_minor": 2
}
